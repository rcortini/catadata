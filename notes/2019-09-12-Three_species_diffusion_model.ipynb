{
 "cells": [
  {
   "cell_type": "code",
   "execution_count": null,
   "metadata": {},
   "outputs": [],
   "source": [
    "%matplotlib inline\n",
    "%load_ext autoreload\n",
    "%autoreload 2"
   ]
  },
  {
   "cell_type": "code",
   "execution_count": null,
   "metadata": {},
   "outputs": [],
   "source": [
    "import numpy as np\n",
    "import pandas as pd\n",
    "import matplotlib.pyplot as plt\n",
    "import sys, os, re\n",
    "from scipy.optimize import curve_fit\n",
    "from scipy import stats\n",
    "import SPTCata as spt\n",
    "from collections import defaultdict"
   ]
  },
  {
   "cell_type": "markdown",
   "metadata": {},
   "source": [
    "# 2019-09-12 Three species diffusion model\n",
    "In this (short) notebook I want to explore the possibility that a three-species diffusion model fits better the data."
   ]
  },
  {
   "cell_type": "code",
   "execution_count": null,
   "metadata": {},
   "outputs": [],
   "source": [
    "# load all the trajectories\n",
    "spt_rootdir = '/home/rcortini/work/CRG/projects/catadata/data'\n",
    "exp_names = [\n",
    "    '0_Tannic_Acid_6h',\n",
    "    '1_Olaparib_R5020',\n",
    "    '2_DMSO_R5020_Control',\n",
    "    '3_EtOH_Nohormone_Control'\n",
    "]\n",
    "bad_cells = [\n",
    " '3_EtOH_Nohormone_Control/Stack019_Cell3',\n",
    " '2_DMSO_R5020_Control/Stack015_Cell1',\n",
    " '3_EtOH_Nohormone_Control/Stack003_Cell1',\n",
    " '3_EtOH_Nohormone_Control/Stack024_Cell1',\n",
    " '2_DMSO_R5020_Control/Stack004_Cell3',\n",
    " '3_EtOH_Nohormone_Control/Stack021_Cell3',\n",
    " '3_EtOH_Nohormone_Control/Stack024_Cell2',\n",
    " '2_DMSO_R5020_Control/Stack007_Cell2',\n",
    " '2_DMSO_R5020_Control/Stack001_Cell2',\n",
    " '3_EtOH_Nohormone_Control/Stack018_Cell2',\n",
    " '1_Olaparib_R5020/Stack007_Cell3'\n",
    "]\n",
    "experiments = spt.load_experiments(spt_rootdir, exp_names, bad_cells=bad_cells, quality=50)"
   ]
  },
  {
   "cell_type": "markdown",
   "metadata": {},
   "source": [
    "Once all trajectories are loaded, let's calculate the values of $r^2$ to then perform the fitting."
   ]
  },
  {
   "cell_type": "code",
   "execution_count": null,
   "metadata": {},
   "outputs": [],
   "source": [
    "r2 = defaultdict(list)\n",
    "for experiment_name, cells in experiments.items() :\n",
    "    for cell in cells :\n",
    "        for trajectory in cell :\n",
    "            r = np.linalg.norm(np.diff(trajectory, axis=0), axis=1)\n",
    "            r2[experiment_name].extend(r**2)"
   ]
  },
  {
   "cell_type": "markdown",
   "metadata": {},
   "source": [
    "Let's define now the three-species diffusion model."
   ]
  },
  {
   "cell_type": "code",
   "execution_count": null,
   "metadata": {},
   "outputs": [],
   "source": [
    "def diffusion_model_3s(X, *p) :\n",
    "    \"\"\"\n",
    "    Two species diffusion model\n",
    "    \"\"\"\n",
    "    # let's extract data and contants\n",
    "    x = X[0]         # data to fit\n",
    "    dt = X[1]        # Delta t values\n",
    "    \n",
    "    # extract the parameters\n",
    "    D1 = p[0]\n",
    "    D2 = p[1]\n",
    "    D3 = p[2]\n",
    "    f1 = p[3]\n",
    "    f2 = p[4]\n",
    "    \n",
    "    # f3 is the fraction of the rest\n",
    "    f3 = 1-f1-f2\n",
    "    \n",
    "    # calculate the result of the model\n",
    "    y = 1-f1*np.exp(-x/(4*D1*dt))-\\\n",
    "          f2*np.exp(-x/(4*D2*dt))-\\\n",
    "          f3*np.exp(-x/(4*D3*dt))\n",
    "    return y"
   ]
  },
  {
   "cell_type": "code",
   "execution_count": null,
   "metadata": {},
   "outputs": [],
   "source": [
    "# define the minimum and maximum value of the square displacement that we want\n",
    "# to study\n",
    "m = 0\n",
    "M = 1.1\n",
    "\n",
    "# number of points to include in the final histogram\n",
    "N = 100\n",
    "\n",
    "# the values of x in the fit are independent of the experiment\n",
    "bins = np.linspace(m, M, N)\n",
    "x = np.zeros(N)\n",
    "x[1:] = bins[1:]\n",
    "\n",
    "# constants for fitting\n",
    "dt = 0.015         # in seconds... = 15ms\n",
    "X = (x, dt)\n",
    "\n",
    "# calculate the histogram of square displacements\n",
    "y = {}\n",
    "for exp_name, r2vals in r2.items() :\n",
    "    # calculate the histogram of r2 values\n",
    "    h, bins = np.histogram(r2vals, bins=bins)\n",
    "    y[exp_name] = np.zeros(N)\n",
    "    y[exp_name][1:] = np.cumsum(h)/sum(h)\n",
    "    \n",
    "    # fit\n",
    "    p0 = [5.0, 1.0, 0.1, 0.3, 0.3]\n",
    "    coeffs, var_matrix = curve_fit(diffusion_model_3s, X, y[exp_name], p0=p0,\n",
    "                                       bounds = (0,\n",
    "                                                 [np.inf, np.inf, np.inf, 1.0, 1.0]))\n",
    "    plt.plot(x,y[exp_name], 'o', color='b')\n",
    "    plt.plot(x, diffusion_model_3s((x, dt), *coeffs), color='b')\n",
    "    plt.title(exp_name.lstrip(spt_rootdir))\n",
    "    plt.xlabel(\"Square displacement [microns 2]\", fontsize=18)\n",
    "    plt.ylabel(\"Cumulative distribution\", fontsize=18)\n",
    "    plt.text(0.6, 0.2, \"D1 = %.3f $\\mu m^2/s$\\n\"\n",
    "                         \"D2 = %.3f $\\mu m^2/s$\\n\"\n",
    "                         \"D3 = %.3f $\\mu m^2/s$\\n\"\n",
    "                         \"f1 = %.3f\\n\"\n",
    "                         \"f2 = %.3f\\n\"\n",
    "                         \"f3 = %.3f\\n\"%(coeffs[0],coeffs[1],coeffs[2],\n",
    "                                        coeffs[3],coeffs[4],1-coeffs[3]-coeffs[4]), fontsize = 14)\n",
    "    plt.show()"
   ]
  },
  {
   "cell_type": "code",
   "execution_count": null,
   "metadata": {},
   "outputs": [],
   "source": [
    "coeffs"
   ]
  }
 ],
 "metadata": {
  "kernelspec": {
   "display_name": "Python 3",
   "language": "python",
   "name": "vpython3"
  },
  "language_info": {
   "codemirror_mode": {
    "name": "ipython",
    "version": 3
   },
   "file_extension": ".py",
   "mimetype": "text/x-python",
   "name": "python",
   "nbconvert_exporter": "python",
   "pygments_lexer": "ipython3"
  }
 },
 "nbformat": 4,
 "nbformat_minor": 2
}

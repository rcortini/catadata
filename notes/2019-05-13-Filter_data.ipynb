{
 "cells": [
  {
   "cell_type": "code",
   "execution_count": null,
   "metadata": {},
   "outputs": [],
   "source": [
    "%load_ext autoreload\n",
    "%autoreload 2\n",
    "%matplotlib inline"
   ]
  },
  {
   "cell_type": "code",
   "execution_count": null,
   "metadata": {},
   "outputs": [],
   "source": [
    "import SPTCata as spt\n",
    "import matplotlib.pyplot as plt1\n",
    "import numpy as np\n",
    "import pandas as pd\n",
    "import os, sys\n",
    "import re\n",
    "from collections import defaultdict\n",
    "\n",
    "# for fitting\n",
    "from scipy.optimize import curve_fit"
   ]
  },
  {
   "cell_type": "markdown",
   "metadata": {},
   "source": [
    "# 2019-05-13 Filter data\n",
    "\n",
    "I want to filter out the tracks that have low quality.\n",
    "\n",
    "## Preliminaries\n",
    "\n",
    "### Load data"
   ]
  },
  {
   "cell_type": "code",
   "execution_count": null,
   "metadata": {},
   "outputs": [],
   "source": [
    "# get all the directory names where we have 10 Spots tracks\n",
    "datadirs = {\n",
    "    'Olaparib_R5020' : '../data/1_Olaparib_R5020',\n",
    "    'R5020' : '../data/2_DMSO_R5020_Control',\n",
    "    'EtOH' : '../data/3_EtOH_Nohormone_Control'\n",
    "}\n",
    "\n",
    "# cycle through all the directories and do the analysis\n",
    "experiments = defaultdict(list)\n",
    "data = defaultdict(list)\n",
    "for treatment, datadir in datadirs.items() :\n",
    "    for subdir in os.listdir(datadir) :\n",
    "        full_dir_name = '%s/%s'%(datadir, subdir)\n",
    "        experiment = spt.SPT(full_dir_name, links=False)\n",
    "        experiments[treatment].append(experiment)\n",
    "        trajectories = experiment.trajectory_spots\n",
    "        data[treatment].extend(trajectories)"
   ]
  },
  {
   "cell_type": "markdown",
   "metadata": {},
   "source": [
    "### Track quality\n",
    "\n",
    "Now, let's try to parse any of the files named \"Track Statistics\"."
   ]
  },
  {
   "cell_type": "code",
   "execution_count": null,
   "metadata": {},
   "outputs": [],
   "source": [
    "# let's pick one experiment\n",
    "experiment = experiments['EtOH'][7]\n",
    "track_statistics = pd.read_csv('%s/Track statistics.csv'%(experiment.datadir))"
   ]
  },
  {
   "cell_type": "code",
   "execution_count": null,
   "metadata": {},
   "outputs": [],
   "source": [
    "for index, track in track_statistics.iterrows() :\n",
    "    if len(experiment.trajectory_spots[index]) != track.NUMBER_SPOTS :\n",
    "        print(\"Error\")"
   ]
  },
  {
   "cell_type": "markdown",
   "metadata": {},
   "source": [
    "Okay, this seems to be working. Let's try it in large scale."
   ]
  },
  {
   "cell_type": "code",
   "execution_count": null,
   "metadata": {},
   "outputs": [],
   "source": [
    "for experiment_batch in experiments.values() :\n",
    "    for experiment in experiment_batch :\n",
    "        track_statistics = pd.read_csv('%s/Track statistics.csv'%(experiment.datadir))\n",
    "        for index, track in track_statistics.iterrows() :\n",
    "            if len(experiment.trajectory_spots[index]) != track.NUMBER_SPOTS :\n",
    "                print(experiment.datadir)\n",
    "                break"
   ]
  },
  {
   "cell_type": "markdown",
   "metadata": {},
   "source": [
    "No output, it works.\n",
    "\n",
    "Now that I'm sure that every line in one file corresponds to every track in the other files, I can look at the distribution of quality values for all the tracks."
   ]
  },
  {
   "cell_type": "code",
   "execution_count": null,
   "metadata": {},
   "outputs": [],
   "source": [
    "quality = defaultdict(list)\n",
    "for treatment, experiment_batch in experiments.items() :\n",
    "    for experiment in experiment_batch :\n",
    "        track_statistics = pd.read_csv('%s/Track statistics.csv'%(experiment.datadir))\n",
    "        for index, track in track_statistics.iterrows() :\n",
    "            quality[treatment].append(track.TRACK_MEAN_QUALITY)"
   ]
  },
  {
   "cell_type": "code",
   "execution_count": null,
   "metadata": {},
   "outputs": [],
   "source": [
    "for treatment, quality_values in quality.items() :\n",
    "    plt.hist(quality_values, bins = 100)\n",
    "    plt.title(treatment, fontsize = 18)\n",
    "    plt.xlabel(\"Quality\", fontsize = 16)\n",
    "    plt.ylabel(\"Count\", fontsize = 16)\n",
    "    plt.show()"
   ]
  },
  {
   "cell_type": "markdown",
   "metadata": {},
   "source": [
    "For Olaparib and R5020 the qualities are similar. However, the EtOH experiment has a slightly different distribution, with less tracks that have high quality.\n",
    "\n",
    "I can now decide on a threshold to apply. The way I'll do it is to modify the constructor of the `SPT` class to include an optional `quality` parameter."
   ]
  },
  {
   "cell_type": "code",
   "execution_count": null,
   "metadata": {},
   "outputs": [],
   "source": [
    "# cycle through all the directories and do the analysis\n",
    "experiments_filtered = defaultdict(list)\n",
    "data_filtered = defaultdict(list)\n",
    "for treatment, datadir in datadirs.items() :\n",
    "    for subdir in os.listdir(datadir) :\n",
    "        full_dir_name = '%s/%s'%(datadir, subdir)\n",
    "        experiment = spt.SPT(full_dir_name, links=False, quality=50)\n",
    "        experiments_filtered[treatment].append(experiment)\n",
    "        trajectories = experiment.trajectory_spots\n",
    "        data_filtered[treatment].extend(trajectories)"
   ]
  }
 ],
 "metadata": {
  "kernelspec": {
   "display_name": "Python 3",
   "language": "python",
   "name": "vpython3"
  },
  "language_info": {
   "codemirror_mode": {
    "name": "ipython",
    "version": 3
   },
   "file_extension": ".py",
   "mimetype": "text/x-python",
   "name": "python",
   "nbconvert_exporter": "python",
   "pygments_lexer": "ipython3"
  }
 },
 "nbformat": 4,
 "nbformat_minor": 2
}

{
 "cells": [
  {
   "cell_type": "code",
   "execution_count": null,
   "metadata": {},
   "outputs": [],
   "source": [
    "%load_ext autoreload\n",
    "%autoreload 2\n",
    "%matplotlib inline"
   ]
  },
  {
   "cell_type": "code",
   "execution_count": null,
   "metadata": {},
   "outputs": [],
   "source": [
    "import SPTCata as spt\n",
    "import matplotlib.pyplot as plt\n",
    "import numpy as np\n",
    "import os, sys\n",
    "import re\n",
    "from collections import defaultdict\n",
    "\n",
    "# for fitting\n",
    "from scipy.optimize import curve_fit"
   ]
  },
  {
   "cell_type": "markdown",
   "metadata": {},
   "source": [
    "# 2019-04-05 MSD and diffusion analysis\n",
    "I proceed with the analysis of the MSD and diffusion coefficients.\n",
    "\n",
    "## Preliminaries"
   ]
  },
  {
   "cell_type": "code",
   "execution_count": null,
   "metadata": {},
   "outputs": [],
   "source": [
    "# this is the function that we will use to calculate the MSD\n",
    "def msd_t (tracks) :\n",
    "    \n",
    "    # init the variables\n",
    "    ntracks = len(tracks)\n",
    "    lengths = [t.shape[0] for t in tracks]\n",
    "    max_t = int(max(lengths)/2)\n",
    "\n",
    "    # make a big matrix with all the mean values, fill it with NaNs, and then\n",
    "    # fill it with the mean of the MSD for each track\n",
    "    MSD = np.zeros((ntracks, max_t))\n",
    "    MSD.fill(np.nan)\n",
    "\n",
    "    # iterate through the all the tracks\n",
    "    for i, track in enumerate(tracks) :\n",
    "        \n",
    "        # number of time steps in the track\n",
    "        T = track.shape[0]\n",
    "        \n",
    "        # now initialize the Delta matrix, which contains the\n",
    "        # squared differences between the particles' positions\n",
    "        # at different time delays\n",
    "        Nt = int(T/2)\n",
    "        delta = np.zeros((Nt,Nt))\n",
    "        \n",
    "        # calculate the MSD for the single track\n",
    "        for delay in range(1,Nt+1) :\n",
    "            for t0 in range (Nt) :\n",
    "                t1 = t0 + delay\n",
    "                pos1 = track[t1,:]\n",
    "                pos0 = track[t0,:]\n",
    "                delta[delay-1,t0] = np.sum((pos1-pos0)**2)\n",
    "        \n",
    "        # append the mean of this delta matrix to the big delta matrix\n",
    "        msd = delta.mean(axis = 1)\n",
    "        MSD[i, 0:len(msd)] = msd\n",
    "    \n",
    "    # return the MSD\n",
    "    return np.nanmean(MSD, axis = 0)"
   ]
  },
  {
   "cell_type": "markdown",
   "metadata": {},
   "source": [
    "## Load data"
   ]
  },
  {
   "cell_type": "code",
   "execution_count": null,
   "metadata": {},
   "outputs": [],
   "source": [
    "# get all the directory names where we have 10 Spots tracks\n",
    "datadirs = []\n",
    "for d, sd, fs in os.walk('../data') :\n",
    "    result = re.match('.*10 [Ss]pot.*', d)\n",
    "    if result :\n",
    "        datadirs.append(d)"
   ]
  },
  {
   "cell_type": "code",
   "execution_count": null,
   "metadata": {},
   "outputs": [],
   "source": [
    "# cycle through all the directories and do the analysis\n",
    "experiments = defaultdict(list)\n",
    "data = defaultdict(list)\n",
    "for datadir in datadirs :\n",
    "    treatment = datadir.split('/')[-3].replace(\"_1000frames\", \"\")\n",
    "    experiment = spt.SPT(datadir)\n",
    "    experiments[treatment].append(experiment)\n",
    "    trajectories = experiment.trajectory_links\n",
    "    data[treatment].extend(trajectories)"
   ]
  },
  {
   "cell_type": "markdown",
   "metadata": {},
   "source": [
    "## MSD\n",
    "\n",
    "To do the MSD analysis, I use the `msd_t` function that I defined before."
   ]
  },
  {
   "cell_type": "code",
   "execution_count": null,
   "metadata": {},
   "outputs": [],
   "source": [
    "d = msd_t(data['R5020'])"
   ]
  },
  {
   "cell_type": "markdown",
   "metadata": {},
   "source": [
    "I can then plot the MSD."
   ]
  },
  {
   "cell_type": "code",
   "execution_count": null,
   "metadata": {},
   "outputs": [],
   "source": [
    "T = d.shape[0]\n",
    "plt.plot(d)\n",
    "alpha = 0.6\n",
    "t = np.arange(T)\n",
    "D = 0.03\n",
    "plt.plot(t, D*t**alpha)"
   ]
  },
  {
   "cell_type": "markdown",
   "metadata": {},
   "source": [
    "## Diffusion coefficient\n",
    "\n",
    "To calculate the diffusion coefficient, I'll use the fitting of the distribution of displacements.\n",
    "\n",
    "First, I gather the information on the square displacements in different treatments."
   ]
  },
  {
   "cell_type": "code",
   "execution_count": null,
   "metadata": {},
   "outputs": [],
   "source": [
    "# calculate the distribution of r2 for all the tracks\n",
    "displacements2 = defaultdict(list)\n",
    "for treatment, tracks in experiments.items() :\n",
    "    for track in tracks :\n",
    "        displacements2[treatment].extend(np.array(track.displacement_spots)**2)"
   ]
  },
  {
   "cell_type": "markdown",
   "metadata": {},
   "source": [
    "I define then two competitor models for the diffusion: a simple one-species diffusion model, and a two-species diffusion model."
   ]
  },
  {
   "cell_type": "code",
   "execution_count": null,
   "metadata": {},
   "outputs": [],
   "source": [
    "def one_species_diffusion_model(x, *p):\n",
    "    D = p\n",
    "    return 1-np.exp(-x/D)\n",
    "\n",
    "def two_species_diffusion_model(x, *p) :\n",
    "    D1, D2, f1 = p\n",
    "    return 1-f1*np.exp(-x/D1)-(1-f1)*np.exp(-x/D2)"
   ]
  },
  {
   "cell_type": "markdown",
   "metadata": {},
   "source": [
    "Now we're ready to perform the fits."
   ]
  },
  {
   "cell_type": "code",
   "execution_count": null,
   "metadata": {},
   "outputs": [],
   "source": [
    "N = 200\n",
    "for treatment, displacement2 in displacements2.items() :\n",
    "    h, bins = np.histogram(displacement2, bins=N)\n",
    "    delta = bins[1]-bins[0]\n",
    "    x = np.zeros(N+1)\n",
    "    y = np.zeros(N+1)\n",
    "    x = bins + delta/2.\n",
    "    y[1:] = np.cumsum(h)/sum(h)\n",
    "    \n",
    "    # one species diffusion model fit\n",
    "    p0 = 0.02\n",
    "    one_species_coeff, one_species_var_matrix = curve_fit(one_species_diffusion_model, x, y, p0=p0)\n",
    "    \n",
    "    # two species diffusion model fit\n",
    "    p0 = [0.02, 0.1, 0.5]\n",
    "    two_species_coeff, two_species_var_matrix = curve_fit(two_species_diffusion_model, x, y, p0=p0)\n",
    "    \n",
    "    plt.plot(x, y, 'o', markersize=3, label='Data')\n",
    "    plt.plot(x, one_species_diffusion_model(x, one_species_coeff[0]), label='One species fit')\n",
    "    plt.plot(x, two_species_diffusion_model(x, two_species_coeff[0],\n",
    "                                               two_species_coeff[1],\n",
    "                                               two_species_coeff[2]), label='Two species fit')\n",
    "    plt.title(treatment, fontsize=18)\n",
    "    plt.legend(loc='lower right')\n",
    "    plt.show()\n",
    "    \n",
    "    print(\"Treatment: %s\"%(treatment))\n",
    "    print(\"\\tOne species fit: D = %.3f\"%(one_species_coeff[0]))\n",
    "    print(\"\\tTwo species fit: D1 = %.3f, D2 = %.3f, f1 = %.3f\"%(two_species_coeff[0],\n",
    "                                                                two_species_coeff[1],\n",
    "                                                                two_species_coeff[2]))\n",
    "    "
   ]
  }
 ],
 "metadata": {
  "kernelspec": {
   "display_name": "Python 3",
   "language": "python",
   "name": "vpython3"
  },
  "language_info": {
   "codemirror_mode": {
    "name": "ipython",
    "version": 3
   },
   "file_extension": ".py",
   "mimetype": "text/x-python",
   "name": "python",
   "nbconvert_exporter": "python",
   "pygments_lexer": "ipython3"
  }
 },
 "nbformat": 4,
 "nbformat_minor": 2
}

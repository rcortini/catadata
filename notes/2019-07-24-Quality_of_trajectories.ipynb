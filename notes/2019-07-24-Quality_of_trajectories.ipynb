{
 "cells": [
  {
   "cell_type": "code",
   "execution_count": null,
   "metadata": {},
   "outputs": [],
   "source": [
    "%load_ext autoreload\n",
    "%autoreload 2\n",
    "%matplotlib inline"
   ]
  },
  {
   "cell_type": "code",
   "execution_count": null,
   "metadata": {},
   "outputs": [],
   "source": []
  },
  {
   "cell_type": "code",
   "execution_count": null,
   "metadata": {},
   "outputs": [],
   "source": [
    "import numpy as np\n",
    "import matplotlib.pyplot as plt\n",
    "import SPTCata as spt\n",
    "import sys, os, re\n",
    "import pandas as pd\n",
    "import scipy.stats as stats\n",
    "import kuiper"
   ]
  },
  {
   "cell_type": "markdown",
   "metadata": {},
   "source": [
    "# 2019-07-24 Quality of trajectories\n",
    "\n",
    "In this notebook, I want to explore several aspects that are related to the quality of the data of the SPT.\n",
    "\n",
    "## Long trajectories\n",
    "\n",
    "I observed that the MSD at the longest time intervals drops to zero. I want to have a look at what's going on there."
   ]
  },
  {
   "cell_type": "code",
   "execution_count": null,
   "metadata": {},
   "outputs": [],
   "source": [
    "# load all the trajectories\n",
    "spt_rootdir = '/home/rcortini/work/CRG/projects/catadata/data'\n",
    "subdirs = [\n",
    "    '0_Tannic_Acid_6h',\n",
    "    '1_Olaparib_R5020',\n",
    "    '2_DMSO_R5020_Control',\n",
    "    '3_EtOH_Nohormone_Control'\n",
    "]\n",
    "datadirs = ['%s/%s'%(spt_rootdir, d) for d in subdirs]"
   ]
  },
  {
   "cell_type": "code",
   "execution_count": null,
   "metadata": {},
   "outputs": [],
   "source": [
    "def load_spt(datadir, quality = None) :\n",
    "    # load the SPT data file\n",
    "    spt_fname = '%s/Spots in tracks statistics.txt'%(datadir)\n",
    "    spt = pd.read_csv(spt_fname, sep='\\t')\n",
    "    \n",
    "    # group by TRACK_ID\n",
    "    spt_by_track = spt.groupby('TRACK_ID')\n",
    "\n",
    "    # get quality of tracks and list of excluded tracks\n",
    "    if quality is not None :\n",
    "        track_statistics = pd.read_csv('%s/Track statistics.csv'%(datadir))\n",
    "        idx_tracks_to_exclude = track_statistics.TRACK_MEAN_QUALITY < quality\n",
    "        tracks_to_exclude = track_statistics[idx_tracks_to_exclude].TRACK_ID\n",
    "    else :\n",
    "        tracks_to_exclude = []\n",
    "    \n",
    "    # extract trajectories\n",
    "    trajectories = []\n",
    "    for track_id, track in spt_by_track :\n",
    "\n",
    "        # skip tracks that did not have sufficiently high average quality\n",
    "        if track_id in tracks_to_exclude :\n",
    "            continue\n",
    "\n",
    "        # extract x and y from the trajectory\n",
    "        x = track['POSITION_X']\n",
    "        y = track['POSITION_Y']\n",
    "\n",
    "        # finally, append the current trajectory to the list of trajectories\n",
    "        trajectories.append(np.array([x, y]).T)\n",
    "    \n",
    "    return trajectories"
   ]
  },
  {
   "cell_type": "code",
   "execution_count": null,
   "metadata": {},
   "outputs": [],
   "source": [
    "def load_experiments(datadirs, quality=None) :\n",
    "    \"\"\"\n",
    "    Load all the experiments in the list of `datadirs`, which is provided by the user\n",
    "    and will be scanned recursively.\n",
    "    \"\"\"\n",
    "    \n",
    "    # init the output data structure\n",
    "    experiments = {}\n",
    "\n",
    "    # iterate over the subdirectories. Notice that the variable `subdir` will contain only\n",
    "    # the name of the subdirectory, not the full path of it.\n",
    "    for datadir in datadirs :\n",
    "        for d, subdirs, fs in os.walk(datadir) :\n",
    "\n",
    "            # here we test the name of the directory. We use a regular expression to check\n",
    "            # whether the name of the subdirectory contains a format \"StackN_CellN\".\n",
    "            # print(d, sd, fs)\n",
    "            for sd in subdirs :\n",
    "                if re.match('Stack[0-9]+_Cell[0-9]+', sd) is None :\n",
    "                    continue\n",
    "\n",
    "                # if we get here, we passed the test\n",
    "                subdir = '%s/%s'%(d,sd)\n",
    "                experiments[subdir] = load_spt(subdir, quality=quality)\n",
    "    return experiments"
   ]
  },
  {
   "cell_type": "code",
   "execution_count": null,
   "metadata": {},
   "outputs": [],
   "source": [
    "# load all the experiments in the batch provided\n",
    "experiments = load_experiments(datadirs, quality = 50.0)"
   ]
  },
  {
   "cell_type": "markdown",
   "metadata": {},
   "source": [
    "Now let's do a visual comparison of short and long trajectories."
   ]
  },
  {
   "cell_type": "code",
   "execution_count": null,
   "metadata": {},
   "outputs": [],
   "source": [
    "min_length = 100\n",
    "max_length = 20\n",
    "long_trajectories = []\n",
    "short_trajectories = []\n",
    "for experiment, trajectories in experiments.items() :\n",
    "    for trajectory in trajectories :\n",
    "        if trajectory.shape[0] > min_length :\n",
    "            long_trajectories.append(trajectory)\n",
    "        if trajectory.shape[0] < max_length and len(short_trajectories) < 100 :\n",
    "            short_trajectories.append(trajectory)"
   ]
  },
  {
   "cell_type": "code",
   "execution_count": null,
   "metadata": {},
   "outputs": [],
   "source": [
    "fig, axes = plt.subplots(1, 2, figsize=(10,4))\n",
    "ax1 = axes[0]\n",
    "for trajectory in long_trajectories :\n",
    "    ax1.plot(trajectory[:,0], trajectory[:,1])\n",
    "ax1.set_title(\"Long trajectories\", fontsize=20)\n",
    "ax1.set_xlabel(r\"X [$\\mu$m]\")\n",
    "ax1.set_ylabel(r\"Y [$\\mu$m]\")\n",
    "    \n",
    "ax2 = axes[1]\n",
    "for trajectory in short_trajectories :\n",
    "    ax2.plot(trajectory[:,0], trajectory[:,1])\n",
    "ax2.set_title(\"Short trajectories\", fontsize=20)\n",
    "ax2.set_xlabel(r\"X [$\\mu$m]\")\n",
    "ax2.set_ylabel(r\"Y [$\\mu$m]\")\n",
    "\n",
    "# final touches\n",
    "plt.subplots_adjust(bottom=0.25, top=0.75)\n",
    "plt.show()"
   ]
  },
  {
   "cell_type": "markdown",
   "metadata": {},
   "source": [
    "By a quick visual inspection, it seems that there is a bias here: the long trajectories are more spatially compact than the short ones. Let's try to make a quantitative estimate of this bias. I'll measure the radius of gyration of the trajectories. This is defined for a trajectory described by the position vectors $\\{\\vec{r}_i\\}_1^N$ as:\n",
    "\n",
    "$r_{gyr} = \\frac{1}{N}\\sum_{i=1}^N |\\vec{r}_i - \\vec{r}_{cm}|$\n",
    "\n",
    "where $r_{cm}$ is the \"center of mass\" of the trajectory, defined as\n",
    "\n",
    "$\\vec{r}_{cm} = \\frac{1}{N} \\sum_{i=1}^N \\vec{r}_i$"
   ]
  },
  {
   "cell_type": "code",
   "execution_count": null,
   "metadata": {},
   "outputs": [],
   "source": [
    "def radius_of_gyration(trajectory) :\n",
    "    rcm = trajectory.sum(axis=0)/trajectory.shape[0]\n",
    "    rdiff = trajectory-rcm\n",
    "    return rcm, np.linalg.norm(rdiff, axis=1).mean()"
   ]
  },
  {
   "cell_type": "markdown",
   "metadata": {},
   "source": [
    "Let's test this function and give a visual representation."
   ]
  },
  {
   "cell_type": "code",
   "execution_count": null,
   "metadata": {},
   "outputs": [],
   "source": [
    "traj = short_trajectories[2]\n",
    "rcm, rgyr = radius_of_gyration(traj)\n",
    "\n",
    "circle = plt.Circle(rcm, rgyr, fill=False, linewidth=2)\n",
    "fig, ax = plt.subplots()\n",
    "ax.plot(traj[:,0], traj[:,1], 'o--')\n",
    "ax.add_artist(circle)\n",
    "ax.set_xlabel(r\"X [$\\mu$m]\")\n",
    "ax.set_ylabel(r\"Y [$\\mu$m]\")\n",
    "plt.show()"
   ]
  },
  {
   "cell_type": "markdown",
   "metadata": {},
   "source": [
    "This works. Let's now take a global approach, and calculate the radius of gyration of all the trajectories and study the relationship between trajectory length and radius of gyration."
   ]
  },
  {
   "cell_type": "code",
   "execution_count": null,
   "metadata": {},
   "outputs": [],
   "source": [
    "# calculate length versus radius of gyration\n",
    "lg = []\n",
    "for experiment, trajectories in experiments.items() :\n",
    "    for trajectory in trajectories :\n",
    "        rcm, rgyr = radius_of_gyration(trajectory)\n",
    "        lg.append([len(trajectory), rgyr])\n",
    "lg = np.array(lg)"
   ]
  },
  {
   "cell_type": "code",
   "execution_count": null,
   "metadata": {},
   "outputs": [],
   "source": [
    "def density_colors (x,y) :\n",
    "    \"\"\"\n",
    "    Calculate the gaussian kernel density of the points that we want to look at:\n",
    "    this way we will be able to color-code the points on the plot by the\n",
    "    density of the neighbouring points. Taken from\n",
    "    http://stackoverflow.com/a/20107592/2312821\n",
    "    \"\"\"\n",
    "    # first calculate the Gaussian kernel density\n",
    "    xy = np.vstack([x,y])\n",
    "    z = stats.gaussian_kde(xy)(xy)\n",
    "    # we need then to sort the output, so that the points with highest density\n",
    "    # will be plotted last\n",
    "    idx = z.argsort()\n",
    "    return z, idx"
   ]
  },
  {
   "cell_type": "code",
   "execution_count": null,
   "metadata": {},
   "outputs": [],
   "source": [
    "# calculate the density of the points\n",
    "z, idx = density_colors(lg[:,0], lg[:,1])"
   ]
  },
  {
   "cell_type": "code",
   "execution_count": null,
   "metadata": {},
   "outputs": [],
   "source": [
    "fig, ax = plt.subplots()\n",
    "cax = ax.scatter(lg[idx,0], lg[idx,1], c=np.log(z[idx]), s=10, edgecolor='')\n",
    "plt.xlabel(\"Length of trajectory\")\n",
    "plt.ylabel(\"Radius of gyration\")\n",
    "cbar = plt.colorbar(cax)\n",
    "cbar.set_label(\"log Density\")\n",
    "plt.show()"
   ]
  },
  {
   "cell_type": "markdown",
   "metadata": {},
   "source": [
    "This graph shows:\n",
    "\n",
    "1. that the longest trajectories are indeed the most compact\n",
    "2. that the majority of the trajectories are either short and expanded or long and compact\n",
    "\n",
    "It means that there is indeed a bias: because of the way that the tracks are detected, it will not be possible to detect a single particle for a long time, unless it is trapped at a point in space.\n",
    "\n",
    "## Biased directions\n",
    "\n",
    "In the figure above where I showed long and short trajectories, there also was something peculiar: the short trajectories all seemed to be pointing in the same direction. Let's study this cell by cell."
   ]
  },
  {
   "cell_type": "code",
   "execution_count": null,
   "metadata": {},
   "outputs": [],
   "source": [
    "def phi(R) :\n",
    "    Rnorm = R/np.linalg.norm(R, axis=1)[:, None]\n",
    "    phiabs = np.arccos(Rnorm[:,0])\n",
    "    phisign = R[:,1]<0\n",
    "    phiabs[phisign] += 2*(np.pi-phiabs[phisign])\n",
    "    return phiabs\n",
    "\n",
    "def trajectory_directions(trajectory) :\n",
    "    rdiff = np.diff(trajectory, axis=0)\n",
    "    nullrows = np.logical_and(rdiff[:,0] == 0,\n",
    "                              rdiff[:,1] == 0)\n",
    "    return phi(rdiff[~nullrows])"
   ]
  },
  {
   "cell_type": "code",
   "execution_count": null,
   "metadata": {},
   "outputs": [],
   "source": [
    "phis = trajectory_directions(trajectory)\n",
    "plt.plot(trajectory[:,0], trajectory[:,1], 'o--', markersize=8)\n",
    "plt.xlabel(\"X [microns]\", fontsize=24)\n",
    "plt.ylabel(\"Y [microns]\", fontsize=24)\n",
    "for i in range(trajectory.shape[0]) :\n",
    "    plt.text(trajectory[i,0], trajectory[i,1], i+1, fontsize=14)\n",
    "    if i>0 :\n",
    "        print(\"phi_%d = %.4f radians (%.2f degrees)\"%(i-1,phis[i-1],phis[i-1]*180/np.pi))"
   ]
  },
  {
   "cell_type": "markdown",
   "metadata": {},
   "source": [
    "Armed with a function that tells us what is the absolute angle $\\phi$ that the particle travels, with respect to the $x$ axis, let's now calculate all the angles for all the trajectories, cell by cell."
   ]
  },
  {
   "cell_type": "code",
   "execution_count": null,
   "metadata": {},
   "outputs": [],
   "source": [
    "# iteration over the cells\n",
    "phi_cells = {}\n",
    "for experiment, trajectories in experiments.items() :\n",
    "    # calculate the angles cell-wise\n",
    "    phis = []\n",
    "    for trajectory in trajectories :\n",
    "         phis.extend(trajectory_directions(trajectory))\n",
    "    phi_cells[experiment] = np.array(phis)"
   ]
  },
  {
   "cell_type": "code",
   "execution_count": null,
   "metadata": {},
   "outputs": [],
   "source": [
    "def plot_angles(ax, angles, bins, title) :\n",
    "    # the first thing is to create the histogram of the angles, with the specified\n",
    "    # number of bins\n",
    "    counts, angle_edges = np.histogram(angles, bins = bins)\n",
    "    \n",
    "    # create a vector corresponding to the centers of the bins\n",
    "    angle_centers = angle_edges[1:] - np.ediff1d(angle_edges)\n",
    "        \n",
    "    # plot the histogram\n",
    "    bars = ax.bar(angle_centers, counts, width = 2*np.pi/bins, edgecolor = 'k')\n",
    "    \n",
    "    # finishing touches\n",
    "\n",
    "    # ax.set_title(title, y = 1.1)\n",
    "    ax.set_xticklabels([])\n",
    "    ax.set_yticklabels([])\n",
    "    return fig, ax"
   ]
  },
  {
   "cell_type": "code",
   "execution_count": null,
   "metadata": {},
   "outputs": [],
   "source": [
    "def uniform(x) :\n",
    "    y = np.zeros_like(x)\n",
    "    mask = np.logical_and(x>0, x<1)\n",
    "    y[mask] = x[mask]\n",
    "    return y"
   ]
  },
  {
   "cell_type": "code",
   "execution_count": null,
   "metadata": {},
   "outputs": [],
   "source": [
    "bad_cells = []\n",
    "for experiment, phi_vals in phi_cells.items() :\n",
    "    # check that we have at least some points\n",
    "    if len(phi_vals) == 0 :\n",
    "        continue\n",
    "        \n",
    "    d, p = kuiper.kuiper(phi_vals/(2*np.pi), uniform)\n",
    "    if p < 0.1 :\n",
    "        fig = plt.figure(figsize=(10,5))\n",
    "        \n",
    "        # plot angles\n",
    "        ax = plt.subplot(121, projection = 'polar')\n",
    "        plot_angles(ax, phi_vals[~np.isnan(phi_vals)], 16, experiment)\n",
    "        ax.set_title('p = %.2f (N = %d)'%(p, len(phi_vals)))\n",
    "        \n",
    "        # plot trajectories\n",
    "        ax = plt.subplot(122)\n",
    "        for trajectory in experiments[experiment] :\n",
    "            ax.plot(trajectory[:,0], trajectory[:,1])\n",
    "        ax.set_title(experiment.lstrip(spt_rootdir))\n",
    "        bad_cells.append(experiment.lstrip(spt_rootdir))\n",
    "        plt.show()"
   ]
  },
  {
   "cell_type": "code",
   "execution_count": null,
   "metadata": {},
   "outputs": [],
   "source": [
    "bad_cells"
   ]
  }
 ],
 "metadata": {
  "kernelspec": {
   "display_name": "Python 3",
   "language": "python",
   "name": "python3"
  },
  "language_info": {
   "codemirror_mode": {
    "name": "ipython",
    "version": 3
   },
   "file_extension": ".py",
   "mimetype": "text/x-python",
   "name": "python",
   "nbconvert_exporter": "python",
   "pygments_lexer": "ipython3"
  }
 },
 "nbformat": 4,
 "nbformat_minor": 2
}

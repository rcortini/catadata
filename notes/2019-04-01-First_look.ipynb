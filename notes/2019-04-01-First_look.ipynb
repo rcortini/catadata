{
 "cells": [
  {
   "cell_type": "code",
   "execution_count": null,
   "metadata": {},
   "outputs": [],
   "source": [
    "%matplotlib inline"
   ]
  },
  {
   "cell_type": "code",
   "execution_count": null,
   "metadata": {},
   "outputs": [],
   "source": [
    "import pandas as pd\n",
    "import matplotlib.pyplot as plt\n",
    "import numpy as np"
   ]
  },
  {
   "cell_type": "markdown",
   "metadata": {},
   "source": [
    "# 2019-04-01 First look\n",
    "Catalina gave me her first results of the SPT. Let's have a look.\n",
    "\n",
    "## Preliminaries\n",
    "\n",
    "Here I put a collection of stuff that will allow me to do the analysis more easily."
   ]
  },
  {
   "cell_type": "code",
   "execution_count": null,
   "metadata": {},
   "outputs": [],
   "source": [
    "def trajectories(data) :\n",
    "    \n",
    "    # extract the tracks\n",
    "    tracks = data.groupby('TRACK_ID')\n",
    "    trajs = []\n",
    "    for name, track in tracks :\n",
    "        try :\n",
    "            x = track['EDGE_X_LOCATION']\n",
    "            y = track['EDGE_Y_LOCATION']\n",
    "        except KeyError :\n",
    "            x = track['POSITION_X']\n",
    "            y = track['POSITION_Y']\n",
    "        trajs.append(np.array([x, y]).T)\n",
    "    return trajs"
   ]
  },
  {
   "cell_type": "code",
   "execution_count": null,
   "metadata": {},
   "outputs": [],
   "source": [
    "def angle(v1, v2) :\n",
    "    d = np.dot(v1, v2)\n",
    "    v = v1[0]*v2[1] - v1[1]*v2[0]\n",
    "    nv1 = np.linalg.norm(v1)\n",
    "    nv2 = np.linalg.norm(v2)\n",
    "    return np.sign(v)*np.arccos(d/(nv1*nv2))"
   ]
  },
  {
   "cell_type": "code",
   "execution_count": null,
   "metadata": {},
   "outputs": [],
   "source": [
    "def angle_analysis(trajectories) :\n",
    "\n",
    "    # iterate through the trajectories\n",
    "    angles = []\n",
    "    for traj in trajectories :\n",
    "        \n",
    "        # calculate the difference in x values and y values\n",
    "        delta_X = np.diff(traj[:, 0], axis=0)[1:]\n",
    "        delta_Y = np.diff(traj[:, 1], axis=0)[1:]\n",
    "\n",
    "        # calculate the normalized tangent vectors\n",
    "        T = np.array([delta_X, delta_Y]).T\n",
    "        \n",
    "        # angle analysis\n",
    "        for i in range(1, len(T)) :\n",
    "            angles.append(angle(T[i-1], T[i]))\n",
    "    \n",
    "    return angles"
   ]
  },
  {
   "cell_type": "code",
   "execution_count": null,
   "metadata": {},
   "outputs": [],
   "source": [
    "class SPT :\n",
    "    \n",
    "    def __init__(self, datadir) :\n",
    "        \n",
    "        # data directory\n",
    "        self.datadir = datadir\n",
    "        self.spots_fname = '%s/Spots in tracks statistics.txt'%(self.datadir)\n",
    "        self.links_fname = '%s/Links in tracks statistics.csv'%(self.datadir)\n",
    "        \n",
    "        # load data\n",
    "        self.spots = pd.read_csv(self.spots_fname, sep = '\\t')\n",
    "        self.links = pd.read_csv(self.links_fname)\n",
    "        \n",
    "        # process tracks\n",
    "        tracks_spots = self.spots.groupby('TRACK_ID')\n",
    "        tracks_links = self.links.groupby('TRACK_ID')\n",
    "        \n",
    "        # process trajectories\n",
    "        self.trajectory_spots = trajectories(self.spots)\n",
    "        self.trajectory_links = trajectories(self.links)\n",
    "        \n",
    "        # process displacement\n",
    "        self.displacement_links = self.links['DISPLACEMENT']\n",
    "        self.displacement_spots = []\n",
    "        for traj in self.trajectory_spots :\n",
    "            self.displacement_spots.extend(np.linalg.norm(np.diff(traj, axis = 0), axis = 1))\n",
    "        \n",
    "        # process angles\n",
    "        self.angles = angle_analysis(self.trajectory_spots)"
   ]
  },
  {
   "cell_type": "markdown",
   "metadata": {},
   "source": [
    "## Ethanol-treated cell"
   ]
  },
  {
   "cell_type": "code",
   "execution_count": null,
   "metadata": {},
   "outputs": [],
   "source": [
    "# basic parameters\n",
    "treatment = 'EtOH'\n",
    "root_datadir = '../data'\n",
    "cell_id = '016'\n",
    "cell_n = 'cell2'\n",
    "\n",
    "# directory name\n",
    "datadir = '%s/%s_1000frames/%s_%s_%s/10 Spots'%(root_datadir, treatment, treatment, cell_id, cell_n)\n",
    "\n",
    "# init data\n",
    "etoh = SPT(datadir)"
   ]
  },
  {
   "cell_type": "markdown",
   "metadata": {},
   "source": [
    "Let's plot."
   ]
  },
  {
   "cell_type": "code",
   "execution_count": null,
   "metadata": {},
   "outputs": [],
   "source": [
    "fig = plt.figure(figsize=(10,5))\n",
    "for traj in etoh.trajectory_spots :\n",
    "    plt.plot(traj[:, 0], traj[:, 1])\n",
    "plt.show()"
   ]
  },
  {
   "cell_type": "code",
   "execution_count": null,
   "metadata": {},
   "outputs": [],
   "source": [
    "fig = plt.figure(figsize=(10,5))\n",
    "for traj in etoh.trajectory_links :\n",
    "    plt.plot(traj[:, 0], traj[:, 1])\n",
    "plt.show()"
   ]
  },
  {
   "cell_type": "markdown",
   "metadata": {},
   "source": [
    "You can clearly see the shape of the nucleus here.\n",
    "\n",
    "Let's see if we're doing things correctly by calculating the displacement of the particles."
   ]
  },
  {
   "cell_type": "code",
   "execution_count": null,
   "metadata": {},
   "outputs": [],
   "source": [
    "plt.hist(etoh.displacement_spots, bins = 100)\n",
    "plt.xlabel('Displacement', fontsize = 18)\n",
    "plt.ylabel('Frequency', fontsize = 18)\n",
    "plt.show()"
   ]
  },
  {
   "cell_type": "markdown",
   "metadata": {},
   "source": [
    "This plot would be exactly equal in shape as the distribution of the velocities, because the sampling is done at \n",
    "fixed time intervals.\n",
    "\n",
    "## R5020"
   ]
  },
  {
   "cell_type": "code",
   "execution_count": null,
   "metadata": {},
   "outputs": [],
   "source": [
    "# basic parameters\n",
    "treatment = 'R5020'\n",
    "root_datadir = '../data'\n",
    "cell_id = '004'\n",
    "cell_n = 'cell1'\n",
    "\n",
    "# build file name\n",
    "datadir = '%s/%s_1000frames/%s_%s_%s/10 spots'%(root_datadir, treatment, treatment, cell_id, cell_n)\n",
    "R5020 = SPT(datadir)"
   ]
  },
  {
   "cell_type": "code",
   "execution_count": null,
   "metadata": {},
   "outputs": [],
   "source": [
    "fig = plt.figure(figsize=(10,5))\n",
    "for traj in R5020.trajectory_spots :\n",
    "    plt.plot(traj[:, 0], traj[:, 1])\n",
    "plt.show()"
   ]
  },
  {
   "cell_type": "code",
   "execution_count": null,
   "metadata": {},
   "outputs": [],
   "source": [
    "plt.hist(R5020.displacement_links, bins = 100)\n",
    "plt.xlabel('Displacement', fontsize = 18)\n",
    "plt.ylabel('Frequency', fontsize = 18)\n",
    "plt.show()"
   ]
  },
  {
   "cell_type": "markdown",
   "metadata": {},
   "source": [
    "Okay, pretty significant difference already. Let's plot the two distributions together."
   ]
  },
  {
   "cell_type": "code",
   "execution_count": null,
   "metadata": {},
   "outputs": [],
   "source": [
    "plt.hist(etoh.displacement_spots, bins = 100, alpha = 0.5, color = 'b', label = 'EtOH')\n",
    "plt.hist(R5020.displacement_links, bins = 100, alpha = 0.5, color = 'r', label = 'R5020')\n",
    "plt.xlabel('Displacement', fontsize = 18)\n",
    "plt.ylabel('Frequency', fontsize = 18)\n",
    "plt.legend(loc='upper right')\n",
    "plt.show()"
   ]
  },
  {
   "cell_type": "markdown",
   "metadata": {},
   "source": [
    "## Angle distribution\n",
    "An interesting question concerns the distribution of the angles in the trajectories."
   ]
  },
  {
   "cell_type": "code",
   "execution_count": null,
   "metadata": {},
   "outputs": [],
   "source": [
    "def plot_angles(angles, bins, title) :\n",
    "    counts, angle_edges = np.histogram(angles, bins = bins)\n",
    "    angle_centers = angle_edges[1:] - np.ediff1d(angle_edges)\n",
    "    ax = plt.subplot(111, projection = 'polar')\n",
    "    bars = ax.bar(angle_centers, counts, width = 2*np.pi/bins, edgecolor = 'k')\n",
    "    ax.set_title(title, y = 1.1, fontsize = 18)\n",
    "    plt.show()"
   ]
  },
  {
   "cell_type": "code",
   "execution_count": null,
   "metadata": {},
   "outputs": [],
   "source": [
    "plot_angles(etoh.angles, 24, 'EtOH')\n",
    "plot_angles(R5020.angles, 24, 'R5020')"
   ]
  },
  {
   "cell_type": "markdown",
   "metadata": {},
   "source": [
    "This concludes the analysis of two single files.\n",
    "\n",
    "The next step is to do the analysis of all the tracks."
   ]
  },
  {
   "cell_type": "code",
   "execution_count": null,
   "metadata": {},
   "outputs": [],
   "source": [
    "for name, track in R5020.links.groupby('TRACK_ID') :\n",
    "    velocity = track['VELOCITY']\n",
    "    if len(velocity) > 40 :\n",
    "        plt.plot(range(len(velocity)), velocity)"
   ]
  },
  {
   "cell_type": "code",
   "execution_count": null,
   "metadata": {},
   "outputs": [],
   "source": [
    "plt.hist(etoh.links['VELOCITY'], bins = 100, alpha=0.5)\n",
    "plt.hist(R5020.links['VELOCITY'], bins = 100, alpha=0.5)\n",
    "plt.show()"
   ]
  }
 ],
 "metadata": {
  "kernelspec": {
   "display_name": "Python 3",
   "language": "python",
   "name": "vpython3"
  },
  "language_info": {
   "codemirror_mode": {
    "name": "ipython",
    "version": 3
   },
   "file_extension": ".py",
   "mimetype": "text/x-python",
   "name": "python",
   "nbconvert_exporter": "python",
   "pygments_lexer": "ipython3"
  }
 },
 "nbformat": 4,
 "nbformat_minor": 2
}

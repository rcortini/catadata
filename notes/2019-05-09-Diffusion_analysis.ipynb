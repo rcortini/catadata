{
 "cells": [
  {
   "cell_type": "code",
   "execution_count": null,
   "metadata": {},
   "outputs": [],
   "source": [
    "%load_ext autoreload\n",
    "%autoreload 2\n",
    "%matplotlib inline"
   ]
  },
  {
   "cell_type": "code",
   "execution_count": null,
   "metadata": {},
   "outputs": [],
   "source": [
    "import SPTCata as spt\n",
    "import matplotlib.pyplot as plt\n",
    "import numpy as np\n",
    "import os, sys\n",
    "import re\n",
    "from collections import defaultdict\n",
    "\n",
    "# for fitting\n",
    "from scipy.optimize import curve_fit"
   ]
  },
  {
   "cell_type": "markdown",
   "metadata": {},
   "source": [
    "# 2019-05-09 Diffusion analysis\n",
    "I proceed with the analysis of the diffusion coefficients."
   ]
  },
  {
   "cell_type": "markdown",
   "metadata": {},
   "source": [
    "## Load data"
   ]
  },
  {
   "cell_type": "code",
   "execution_count": null,
   "metadata": {},
   "outputs": [],
   "source": [
    "# directories\n",
    "datadirs = {\n",
    "    'Olaparib-R5020' : '../data/1_Olaparib_R5020',\n",
    "    'R5020' : '../data/2_DMSO_R5020_Control',\n",
    "    'EtOH' : '../data/3_EtOH_Nohormone_Control'\n",
    "}\n",
    "\n",
    "# scale\n",
    "scale_l = 0.160\n",
    "dt = 0.015\n",
    "\n",
    "# cycle through all the directories and do the analysis\n",
    "experiments = defaultdict(list)\n",
    "data = defaultdict(list)\n",
    "for treatment, datadir in datadirs.items() :\n",
    "    for subdir in os.listdir(datadir) :\n",
    "        full_dir_name = '%s/%s'%(datadir, subdir)\n",
    "        # print(\"Processing %s\"%(full_dir_name))\n",
    "        experiment = spt.SPT(full_dir_name, scale_l, quality=50, links=False)\n",
    "        experiments[treatment].append(experiment)\n",
    "        trajectories = experiment.trajectory_spots\n",
    "        data[treatment].extend(trajectories)"
   ]
  },
  {
   "cell_type": "markdown",
   "metadata": {},
   "source": [
    "## Diffusion coefficient\n",
    "\n",
    "To calculate the diffusion coefficient, I'll use the fitting of the distribution of displacements.\n",
    "\n",
    "First, I gather the information on the square displacements in different treatments."
   ]
  },
  {
   "cell_type": "code",
   "execution_count": null,
   "metadata": {},
   "outputs": [],
   "source": [
    "# calculate the distribution of r2 for all the tracks\n",
    "displacements2 = defaultdict(list)\n",
    "for treatment, tracks in experiments.items() :\n",
    "    for track in tracks :\n",
    "        displacements2[treatment].extend(np.array(track.displacement_spots)**2)"
   ]
  },
  {
   "cell_type": "markdown",
   "metadata": {},
   "source": [
    "I define then two competitor models for the diffusion: a simple one-species diffusion model, and a two-species diffusion model."
   ]
  },
  {
   "cell_type": "code",
   "execution_count": null,
   "metadata": {},
   "outputs": [],
   "source": [
    "def diffusion_model_1s(X, *p):\n",
    "    \"\"\"\n",
    "    One species diffusion model.\n",
    "    \"\"\"\n",
    "    D = p[0]\n",
    "    x = X[0]\n",
    "    dt = X[1]\n",
    "    return 1-np.exp(-x/(4*D*dt))\n",
    "\n",
    "\n",
    "def diffusion_model_2s(X, *p) :\n",
    "    \"\"\"\n",
    "    Two species diffusion model.\n",
    "    \"\"\"\n",
    "    D1, D2, f1 = p\n",
    "    x = X[0]\n",
    "    dt = X[1]\n",
    "    return 1-f1*np.exp(-x/(4*D1*dt))-(1-f1)*np.exp(-x/(4*D2*dt))"
   ]
  },
  {
   "cell_type": "markdown",
   "metadata": {},
   "source": [
    "Now we're ready to perform the fits."
   ]
  },
  {
   "cell_type": "code",
   "execution_count": null,
   "metadata": {},
   "outputs": [],
   "source": [
    "def fit_diffusion_models(r2_tracks, m, M, N, dt,\n",
    "                         p0_1s = 10.0, p0_2s = [10.0, 1.0, 0.1]) :\n",
    "    \n",
    "    # calculate the histogram of square displacements of the tracks\n",
    "    bins = np.linspace(m, M, N+1)\n",
    "    h, bins = np.histogram(r2_tracks, bins=bins)\n",
    "    \n",
    "    # prepare x and y for fitting\n",
    "    delta = bins[1]-bins[0]\n",
    "    x = np.zeros(N+1)\n",
    "    y = np.zeros(N+1)\n",
    "    x = bins + delta/2.\n",
    "    y[1:] = np.cumsum(h)/sum(h)\n",
    "    X = (x, dt)\n",
    "    \n",
    "    # one species diffusion model fit\n",
    "    coeff_1s, var_matrix_1s = curve_fit(diffusion_model_1s, X, y, p0=p0_1s)\n",
    "    \n",
    "    # two species diffusion model fit\n",
    "    coeff_2s, var_matrix_2s = curve_fit(diffusion_model_2s, X, y, p0=p0_2s,\n",
    "                                       bounds = (0,\n",
    "                                                 [np.inf, np.inf, 1.0]))\n",
    "    \n",
    "    return x, y, coeff_1s, var_matrix_1s, coeff_2s, var_matrix_2s"
   ]
  },
  {
   "cell_type": "markdown",
   "metadata": {},
   "source": [
    "We're now ready to plot everything. Let's make nice plots."
   ]
  },
  {
   "cell_type": "code",
   "execution_count": null,
   "metadata": {},
   "outputs": [],
   "source": [
    "# for aesthetics\n",
    "import matplotlib\n",
    "matplotlib.rcParams['text.usetex'] = True"
   ]
  },
  {
   "cell_type": "code",
   "execution_count": null,
   "metadata": {},
   "outputs": [],
   "source": [
    "N = 200\n",
    "\n",
    "for treatment, displacement2 in displacements2.items() :\n",
    "    \n",
    "    x, y, coeff_1s, var_matrix_1s, coeff_2s, var_matrix_2s =\\\n",
    "    fit_diffusion_models(displacement2, 0., 0.05, N, dt)\n",
    "    \n",
    "    fig = plt.figure(figsize=(6,4))\n",
    "    plt.plot(x, y, 'o', markersize=5, label='Data')\n",
    "    plt.plot(x, diffusion_model_1s((x, dt), coeff_1s[0]), label='One species fit')\n",
    "    plt.plot(x, diffusion_model_2s((x, dt), coeff_2s[0],\n",
    "                                      coeff_2s[1],\n",
    "                                      coeff_2s[2]), label='Two species fit')\n",
    "    plt.title(treatment, fontsize=24)\n",
    "    plt.axhline(y = 1.0, linestyle = '--', color = 'k', linewidth = 0.75)\n",
    "    plt.xlabel(\"Displacement [$\\mu$m]\")\n",
    "    plt.ylabel(\"Cumulative distribution\")\n",
    "    plt.xlim(0., 0.02)\n",
    "    plt.xticks(np.arange(0., 0.0205, 0.005))\n",
    "    plt.legend(loc='lower right', fontsize = 16)\n",
    "    \n",
    "    plt.text(0.007, 0.8, \"One species fit: D = %.3f $\\mu m^2/s$\"%(coeff_1s[0]), fontsize = 14)\n",
    "    plt.text(0.007, 0.5, \"Two species fit: D1 = %.3f $\\mu m^2/s$\\n\"\n",
    "                          \"                D2 = %.3f $\\mu m^2/s$\\n\"\n",
    "                          \"                f1 = %.3f\"%(coeff_2s[0],\n",
    "                                                                coeff_2s[1],\n",
    "                                                                coeff_2s[2]), fontsize = 14)\n",
    "    \n",
    "    plt.show()"
   ]
  },
  {
   "cell_type": "markdown",
   "metadata": {},
   "source": [
    "## Angle Analysis\n"
   ]
  },
  {
   "cell_type": "code",
   "execution_count": null,
   "metadata": {},
   "outputs": [],
   "source": [
    "angles = defaultdict(list)\n",
    "for treatment, experiment_list in experiments.items() :\n",
    "    for experiment in experiment_list :\n",
    "        experiment.angle_analysis()\n",
    "        angles[treatment].extend(experiment.angles)\n",
    "    angles[treatment] = np.array(angles[treatment])\n",
    "    angles[treatment] = angles[treatment][~np.isnan(angles[treatment])]"
   ]
  },
  {
   "cell_type": "code",
   "execution_count": null,
   "metadata": {},
   "outputs": [],
   "source": [
    "for treatment in angles.keys() :\n",
    "    fig = spt.plot_angles(angles[treatment], 24, treatment)\n",
    "    plt.show()"
   ]
  }
 ],
 "metadata": {
  "kernelspec": {
   "display_name": "Python 3",
   "language": "python",
   "name": "vpython3"
  },
  "language_info": {
   "codemirror_mode": {
    "name": "ipython",
    "version": 3
   },
   "file_extension": ".py",
   "mimetype": "text/x-python",
   "name": "python",
   "nbconvert_exporter": "python",
   "pygments_lexer": "ipython3"
  }
 },
 "nbformat": 4,
 "nbformat_minor": 2
}

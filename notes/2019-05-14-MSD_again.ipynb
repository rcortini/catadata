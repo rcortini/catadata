{
 "cells": [
  {
   "cell_type": "code",
   "execution_count": null,
   "metadata": {},
   "outputs": [],
   "source": [
    "%load_ext autoreload\n",
    "%autoreload 2\n",
    "%matplotlib inline"
   ]
  },
  {
   "cell_type": "code",
   "execution_count": null,
   "metadata": {},
   "outputs": [],
   "source": [
    "import SPTCata as spt\n",
    "import matplotlib.pyplot as plt\n",
    "import numpy as np\n",
    "import pandas as pd\n",
    "import os, sys\n",
    "import re\n",
    "from collections import defaultdict\n",
    "import itertools\n",
    "\n",
    "# for fitting\n",
    "from scipy.optimize import curve_fit\n",
    "from scipy import stats"
   ]
  },
  {
   "cell_type": "markdown",
   "metadata": {},
   "source": [
    "# 2019-05-14 MSD again\n",
    "\n",
    "Here, I want to try to calculate the MSD for the tracks that I have. In the previous notebooks I managed to calculate it but the results of the calculations were not satisfactory, as the data was noisy and I couldn't get clean MSD curves.\n",
    "\n",
    "## Load data\n",
    "\n",
    "Let's load the data with a minimum quality of 50."
   ]
  },
  {
   "cell_type": "code",
   "execution_count": null,
   "metadata": {},
   "outputs": [],
   "source": [
    "datadirs = {\n",
    "    'Olaparib_R5020' : '../data/1_Olaparib_R5020',\n",
    "    'R5020' : '../data/2_DMSO_R5020_Control',\n",
    "    'EtOH' : '../data/3_EtOH_Nohormone_Control'\n",
    "}\n",
    "\n",
    "# the quality\n",
    "quality = 50.0\n",
    "\n",
    "# temporal and spatial scale\n",
    "dt = 0.015             # in seconds (15 ms)\n",
    "scale_l = 0.160        # in microns (160 um)\n",
    "\n",
    "# cycle through all the directories and do the analysis\n",
    "experiments = defaultdict(list)\n",
    "for treatment, datadir in datadirs.items() :\n",
    "    for subdir in os.listdir(datadir) :\n",
    "        full_dir_name = '%s/%s'%(datadir, subdir)\n",
    "        experiment = spt.SPT(full_dir_name, scale_l, links=False, quality=quality)\n",
    "        experiments[treatment].append(experiment)"
   ]
  },
  {
   "cell_type": "markdown",
   "metadata": {},
   "source": [
    "## Track statistics\n",
    "\n",
    "Let's start to look at the statistics of the tracks that we have, so that we can kind of know what to expect."
   ]
  },
  {
   "cell_type": "code",
   "execution_count": null,
   "metadata": {},
   "outputs": [],
   "source": [
    "track_length = defaultdict(list)\n",
    "for treatment, experiment_batch in experiments.items() :\n",
    "    for experiment in experiment_batch :\n",
    "        track_length[treatment].extend([len(t) for t in experiment.trajectory_spots])"
   ]
  },
  {
   "cell_type": "code",
   "execution_count": null,
   "metadata": {},
   "outputs": [],
   "source": [
    "# plot histograms\n",
    "bins = np.linspace(0, 100, 100)\n",
    "for treatment, lengths in track_length.items() :\n",
    "    plt.hist(lengths, bins=bins)\n",
    "    plt.title(treatment, fontsize=18)\n",
    "    plt.xlabel(\"Length\")\n",
    "    plt.ylabel(\"Counts\")\n",
    "    plt.show()"
   ]
  },
  {
   "cell_type": "markdown",
   "metadata": {},
   "source": [
    "There are relatively few tracks that have more than 20 points. But let's try to extract something useful.\n",
    "\n",
    "## MSD Analysis\n",
    "\n",
    "To build the MSD calculation function, let's proceed step by step."
   ]
  },
  {
   "cell_type": "code",
   "execution_count": null,
   "metadata": {},
   "outputs": [],
   "source": [
    "def msd_track(track) :\n",
    "    \"\"\"\n",
    "    This function calculates the MSD of a single track. `track` needs to be\n",
    "    an np.array with dimensions (T, 2)\n",
    "    \"\"\"\n",
    "    # get the length of the track\n",
    "    T = track.shape[0]\n",
    "    \n",
    "    # initialize a matrix that will allow us to calculate the MSD: the matrix\n",
    "    # has T-1 rows, corresponding to each time point except the last one (because\n",
    "    # for the last one we cannot calculate any difference in time); it has then\n",
    "    # T-1 columns, so that it stores all the possible time intervals from 1 to T\n",
    "    delta = np.zeros((T-1, T-1))\n",
    "    delta.fill(np.nan)\n",
    "    \n",
    "    # calculate the MSD for the single track\n",
    "    for t0 in range(T-1) :\n",
    "        for delay in range(1,T-t0) :\n",
    "            t1 = t0 + delay\n",
    "            pos1 = track[t1,:]\n",
    "            pos0 = track[t0,:]\n",
    "            delta[t0, delay-1] = np.sum((pos1-pos0)**2)\n",
    "    \n",
    "    # now we can return the mean of this track\n",
    "    return np.nanmean(delta, axis=0)"
   ]
  },
  {
   "cell_type": "code",
   "execution_count": null,
   "metadata": {},
   "outputs": [],
   "source": [
    "# this is the function that we will use to calculate the MSD\n",
    "def msd_t(tracks) :\n",
    "    \n",
    "    # init the variables\n",
    "    ntracks = len(tracks)\n",
    "    lengths = [t.shape[0] for t in tracks]\n",
    "    max_t = int(max(lengths)) - 1\n",
    "    \n",
    "    # We init a matrix that will contain the MSD calculated for each of the\n",
    "    # tracks. It will have `ntracks` rows and `max_t - 1` columns.\n",
    "    MSD = np.zeros((ntracks, max_t))\n",
    "    MSD.fill(np.nan)\n",
    "\n",
    "    # iterate through the all the tracks\n",
    "    for i, track in enumerate(tracks) :\n",
    "        m = msd_track(track)\n",
    "        MSD[i, 0:len(m)] = m\n",
    "    \n",
    "    # return the MSD\n",
    "    return np.nanmean(MSD, axis=0)"
   ]
  },
  {
   "cell_type": "markdown",
   "metadata": {},
   "source": [
    "Okay, this seems to be working. Let's do the full calculation."
   ]
  },
  {
   "cell_type": "code",
   "execution_count": null,
   "metadata": {},
   "outputs": [],
   "source": [
    "tracks = defaultdict(list)\n",
    "msd = defaultdict(list)\n",
    "for treatment, experiment_batch in experiments.items() :\n",
    "    for experiment in experiment_batch :\n",
    "        tracks[treatment].extend([t for t in experiment.trajectory_spots])\n",
    "    msd[treatment] = msd_t(tracks[treatment])"
   ]
  },
  {
   "cell_type": "markdown",
   "metadata": {},
   "source": [
    "The final piece is to put in the fit to the theoretical $MSD(t)$."
   ]
  },
  {
   "cell_type": "code",
   "execution_count": null,
   "metadata": {},
   "outputs": [],
   "source": [
    "def linear_regression (x,y,prob) :\n",
    "    \"\"\"\n",
    "    Fit (x,y) to a linear function, using maximum likelihood estimation of the\n",
    "    confidence intervals on the coefficients, given the user-supplied\n",
    "    probability *prob*\n",
    "    \"\"\"\n",
    "    n = len(x)\n",
    "    xy = x*y\n",
    "    xx = x*x\n",
    "    # estimates\n",
    "    xmean = x.mean()\n",
    "    ymean = y.mean()\n",
    "    xxmean = xx.mean()\n",
    "    xymean = xy.mean()\n",
    "    b1 = (xymean-xmean*ymean) / (xxmean-xmean**2)\n",
    "    b0 = ymean-b1*xmean\n",
    "    s2 = 1./n * sum([(y[i] - b0 - b1 * x[i])**2 for i in range(n)])\n",
    "    #confidence intervals\n",
    "    alpha = 1 - prob\n",
    "    c1 = stats.chi2.ppf(alpha/2.,n-2)\n",
    "    c2 = stats.chi2.ppf(1-alpha/2.,n-2)\n",
    "    # get results and return\n",
    "    c = -1 * stats.t.ppf(alpha/2.,n-2)\n",
    "    bb1 = c * (s2 / ((n-2) * (xxmean - (xmean)**2)))**.5\n",
    "    bb0 = c * ((s2 / (n-2)) * (1 + (xmean)**2 / (xxmean - xmean**2)))**.5\n",
    "    return b0,b1,bb0,bb1"
   ]
  },
  {
   "cell_type": "code",
   "execution_count": null,
   "metadata": {},
   "outputs": [],
   "source": [
    "def fit_msd (msd,cutoff,delta_t) :\n",
    "    # prepare the values to fit: exclude the first value because it is zero\n",
    "    t = np.arange(1, msd.size+1)*delta_t\n",
    "    x = np.log(t[:cutoff])\n",
    "    y = np.log(msd[:cutoff])\n",
    "    # perform fit to y = ax + b with their errors\n",
    "    b,a,db,da = linear_regression (x,y,0.99)\n",
    "    # now convert the value of b into a diffusion coefficient\n",
    "    D = np.exp(b)/4\n",
    "    dD = np.exp(db)/4\n",
    "    return a,da,D,dD"
   ]
  },
  {
   "cell_type": "code",
   "execution_count": null,
   "metadata": {},
   "outputs": [],
   "source": [
    "cutoff = 12\n",
    "msd_fits = {}\n",
    "for treatment, m in msd.items() :\n",
    "    msd_fits[treatment] = fit_msd(m, cutoff, dt)"
   ]
  },
  {
   "cell_type": "code",
   "execution_count": null,
   "metadata": {},
   "outputs": [],
   "source": [
    "# prepare figure\n",
    "fig = plt.figure(figsize=(8,6))\n",
    "ax = plt.subplot(111)\n",
    "\n",
    "# markers and colors\n",
    "marker = itertools.cycle(('+', '.', '^'))\n",
    "colors = itertools.cycle(('r', 'g', 'b'))\n",
    "\n",
    "# plot for all the treatment conditions\n",
    "for treatment, m in msd.items() :\n",
    "    \n",
    "    # t axis\n",
    "    t = dt*np.arange(cutoff)\n",
    "    \n",
    "    # get the fit values\n",
    "    a, da, D, dD = msd_fits[treatment]\n",
    "    print(\"%s: alpha = %.3f +/- %.3f; D = %.3f +/- %.3f um2/s\"%(treatment, a, da, D, dD))\n",
    "    \n",
    "    # the diffusion model: 2D diffusion\n",
    "    yfit = 4 * D * t ** a\n",
    "    \n",
    "    # plot the data and the fit to the model\n",
    "    color = next(colors)\n",
    "    ax.loglog(dt*np.arange(m.shape[0]), m, next(marker),\n",
    "              color = color, markersize = 8, label = treatment)\n",
    "    ax.loglog(t, yfit, '--', color = color)\n",
    "\n",
    "# finish up with plot style\n",
    "ax.legend(loc='lower left', fontsize = 14)\n",
    "ax.set_xlabel(r'$log[\\Delta t]$ [s]', fontsize = 18)\n",
    "ax.set_ylabel(r'$\\log [MSD (\\Delta t)]$', fontsize = 18)\n",
    "plt.show()"
   ]
  },
  {
   "cell_type": "code",
   "execution_count": null,
   "metadata": {},
   "outputs": [],
   "source": [
    "np.savetxt('test.dat', msd_fits['Olaparib_R5020'])\n",
    "np.savetxt('test.dat', msd['Olaparib_R5020'])"
   ]
  }
 ],
 "metadata": {
  "kernelspec": {
   "display_name": "Python 3",
   "language": "python",
   "name": "vpython3"
  },
  "language_info": {
   "codemirror_mode": {
    "name": "ipython",
    "version": 3
   },
   "file_extension": ".py",
   "mimetype": "text/x-python",
   "name": "python",
   "nbconvert_exporter": "python",
   "pygments_lexer": "ipython3"
  }
 },
 "nbformat": 4,
 "nbformat_minor": 2
}

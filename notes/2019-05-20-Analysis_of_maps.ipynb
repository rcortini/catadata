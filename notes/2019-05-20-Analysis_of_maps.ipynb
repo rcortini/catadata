{
 "cells": [
  {
   "cell_type": "code",
   "execution_count": null,
   "metadata": {},
   "outputs": [],
   "source": [
    "%matplotlib inline\n",
    "%load_ext autoreload\n",
    "%autoreload 2"
   ]
  },
  {
   "cell_type": "code",
   "execution_count": null,
   "metadata": {},
   "outputs": [],
   "source": [
    "import numpy as np\n",
    "import matplotlib.pyplot as plt\n",
    "import pandas as pd\n",
    "import sys, os\n",
    "import SPTCata as spt\n",
    "from collections import defaultdict"
   ]
  },
  {
   "cell_type": "markdown",
   "metadata": {},
   "source": [
    "# 2019-05-20 Analysis of maps\n",
    "\n",
    "Catalina passed me the files with the localisation maps of the tracks. Let's try to open one and find out what it looks like."
   ]
  },
  {
   "cell_type": "code",
   "execution_count": null,
   "metadata": {},
   "outputs": [],
   "source": [
    "def idx_grid(val, minval, delta) :\n",
    "    return int((val-minval)//delta)\n",
    "\n",
    "def make_grid(experiment, Nx = 200, Ny = 200, qmin = 30.0) :\n",
    "    # the file containing the map\n",
    "    map_fname = '%s/Spots in tracks statistics_MAP.txt'%(experiment.datadir)\n",
    "    \n",
    "    # don't attempt to do anything if the file doesn't exist\n",
    "    if not os.path.exists(map_fname) :\n",
    "        return False\n",
    "\n",
    "    # parse the file\n",
    "    density_map = pd.read_csv(map_fname, sep='\\t')\n",
    "    \n",
    "    # load all the positions in the tracks\n",
    "    X = np.array(density_map['POSITION_X'])\n",
    "    Y = np.array(density_map['POSITION_Y'])\n",
    "    Q = np.array(density_map['QUALITY'])\n",
    "    \n",
    "    # make the grid\n",
    "    dx = (X.max()-X.min())/Nx\n",
    "    dy = (Y.max()-Y.min())/Ny\n",
    "    grid = np.zeros((Nx+1, Ny+1), dtype=np.int32)\n",
    "\n",
    "    # fill the grid\n",
    "    experiment.xm = X.min()\n",
    "    experiment.ym = Y.min()\n",
    "    for x, y, q in zip(X, Y, Q) :\n",
    "        if q >= qmin :\n",
    "            i = idx_grid(x, experiment.xm, dx)\n",
    "            j = idx_grid(y, experiment.ym, dy)\n",
    "            grid[i, j] += 1\n",
    "            \n",
    "    # put the grid into the experiment\n",
    "    experiment.grid = grid\n",
    "    experiment.dx = dx\n",
    "    experiment.dy = dy\n",
    "    \n",
    "    return True\n",
    "\n",
    "def grid_analysis(experiment) :\n",
    "            \n",
    "    # do the calculations\n",
    "    density = [[] for i in range(experiment.grid.max())]\n",
    "    counter = 0\n",
    "    for n, trajectory in enumerate(experiment.trajectory_spots) :\n",
    "        for x, y in trajectory[1:] :\n",
    "\n",
    "            # get the current value of the displacement\n",
    "            displacement = experiment.displacement_spots[counter]\n",
    "\n",
    "            # get the grid indices\n",
    "            i = idx_grid(x, experiment.xm, experiment.dx)\n",
    "            j = idx_grid(y, experiment.ym, experiment.dy)\n",
    "\n",
    "            # add the current value to the value of the density map\n",
    "            try :\n",
    "                density[experiment.grid[i,j]-1].append(displacement)\n",
    "            except IndexError :\n",
    "                print(experiment.datadir, n)\n",
    "                break\n",
    "            counter += 1\n",
    "    \n",
    "    # perform the averages and return\n",
    "    dvd = np.zeros(experiment.grid.max())\n",
    "    for i, d in enumerate(density) :\n",
    "        dvd[i] = np.mean(density[i])\n",
    "        \n",
    "    # put the results in\n",
    "    experiment.dvd = dvd"
   ]
  },
  {
   "cell_type": "code",
   "execution_count": null,
   "metadata": {},
   "outputs": [],
   "source": [
    "# load one dir\n",
    "experiment_dir = '../data/0_Tannic_Acid_6h/1_Tannic_R5020_6h/Sample1/Stack001_Cell2/'\n",
    "\n",
    "# I'll keep the values of Nx and Ny different just to make sure that everything's right\n",
    "experiment = spt.SPT(experiment_dir, 1.0, links = False, quality = 50)\n",
    "if make_grid(experiment, Nx=100, Ny=200, qmin=30.0) :\n",
    "    grid_analysis(experiment)"
   ]
  },
  {
   "cell_type": "code",
   "execution_count": null,
   "metadata": {},
   "outputs": [],
   "source": [
    "plt.plot(experiment.dvd)\n",
    "plt.xlabel(\"Density\")\n",
    "plt.ylabel(\"Average displacement\")\n",
    "plt.show()"
   ]
  },
  {
   "cell_type": "code",
   "execution_count": null,
   "metadata": {},
   "outputs": [],
   "source": [
    "trajectory"
   ]
  },
  {
   "cell_type": "code",
   "execution_count": null,
   "metadata": {},
   "outputs": [],
   "source": [
    "# careful! imshow will show the image as one imagines a matrix, that is the first\n",
    "# dimensions as rows, and the second as columns. That means that actually the x and y\n",
    "# dimensions are inverted!\n",
    "fig = plt.figure(figsize=(10,10))\n",
    "plt.imshow(np.log(1+experiment.grid), cmap=plt.cm.Greys, aspect='equal', origin='lower')\n",
    "for trajectory in experiment.trajectory_spots :\n",
    "    plt.plot(trajectory[:, 1]/experiment.dy, trajectory[:, 0]/experiment.dx)\n",
    "Nx, Ny = experiment.grid.shape\n",
    "plt.yticks(np.arange(0, Nx, 10), ['%.1f'%t for t in np.arange(0, Nx, 10) * experiment.dx])\n",
    "plt.xticks(np.arange(0, Ny, 20), ['%.1f'%t for t in np.arange(0, Ny, 20) * experiment.dy])\n",
    "plt.show()"
   ]
  },
  {
   "cell_type": "code",
   "execution_count": null,
   "metadata": {},
   "outputs": [],
   "source": [
    "experiment.dy"
   ]
  },
  {
   "cell_type": "markdown",
   "metadata": {},
   "source": [
    "## Scale up\n",
    "\n",
    "Now that we have a basic codebase for one single experiment, we can do the same thing for all the experiments."
   ]
  },
  {
   "cell_type": "code",
   "execution_count": null,
   "metadata": {},
   "outputs": [],
   "source": [
    "datadirs = {\n",
    "    'Olaparib_R5020' : '../data/1_Olaparib_R5020',\n",
    "    'R5020' : '../data/2_DMSO_R5020_Control',\n",
    "    'EtOH' : '../data/3_EtOH_Nohormone_Control'\n",
    "}\n",
    "\n",
    "# the quality\n",
    "quality = 50.0\n",
    "\n",
    "# temporal and spatial scale\n",
    "dt = 0.015             # in seconds (15 ms)\n",
    "scale_l = 0.160        # in microns (160 um)\n",
    "\n",
    "# cycle through all the directories and do the analysis\n",
    "experiments = defaultdict(list)\n",
    "for treatment, datadir in datadirs.items() :\n",
    "    for subdir in os.listdir(datadir) :\n",
    "        full_dir_name = '%s/%s'%(datadir, subdir)\n",
    "        \n",
    "        # in this part we load the map\n",
    "        map_fname = '%s/Spots in tracks statistics_MAP.txt'%(full_dir_name)\n",
    "        if os.path.exists(map_fname) :\n",
    "            experiment = spt.SPT(full_dir_name, 1.0, links=False, quality=quality)\n",
    "            make_grid(experiment)\n",
    "            grid_analysis(experiment)\n",
    "            experiments[treatment].append(experiment)"
   ]
  },
  {
   "cell_type": "code",
   "execution_count": null,
   "metadata": {},
   "outputs": [],
   "source": [
    "for treatment, experiment_batch in experiments.items() :\n",
    "    fig = plt.figure(figsize=(6,4))\n",
    "    for i, experiment in enumerate(experiment_batch) :\n",
    "        plt.plot(experiment.dvd)\n",
    "    plt.title(treatment, fontsize=24)\n",
    "    plt.xlabel(\"Number of passages in map\", fontsize=18)\n",
    "    plt.ylabel(\"Average displacement\", fontsize=18)\n",
    "    plt.xlim(0, 40)\n",
    "    plt.show()"
   ]
  },
  {
   "cell_type": "code",
   "execution_count": null,
   "metadata": {},
   "outputs": [],
   "source": [
    "# experiment = spt.SPT('../data/2_DMSO_R5020_Control/Stack016_Cell1', 1.0, links = False, quality = quality)\n",
    "# make_grid(experiment)\n",
    "experiment = experiments['EtOH'][1]\n",
    "fig = plt.figure(figsize=(10,10))\n",
    "plt.imshow(np.log(1+experiment.grid), cmap=plt.cm.Greys, aspect='equal', origin='lower')\n",
    "for trajectory in experiment.trajectory_spots :\n",
    "    plt.plot(trajectory[:, 1]/experiment.dy, trajectory[:, 0]/experiment.dx, alpha = 0.5)\n",
    "plt.show()"
   ]
  }
 ],
 "metadata": {
  "kernelspec": {
   "display_name": "Python 3",
   "language": "python",
   "name": "vpython3"
  },
  "language_info": {
   "codemirror_mode": {
    "name": "ipython",
    "version": 3
   },
   "file_extension": ".py",
   "mimetype": "text/x-python",
   "name": "python",
   "nbconvert_exporter": "python",
   "pygments_lexer": "ipython3"
  }
 },
 "nbformat": 4,
 "nbformat_minor": 2
}
